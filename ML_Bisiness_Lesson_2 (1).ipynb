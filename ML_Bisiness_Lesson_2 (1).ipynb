{
 "cells": [
  {
   "cell_type": "code",
   "execution_count": 42,
   "metadata": {},
   "outputs": [],
   "source": [
    "import itertools\n",
    "import re\n",
    "\n",
    "import numpy as np\n",
    "import pandas as pd\n",
    "\n",
    "import matplotlib.pyplot as plt\n",
    "\n",
    "from sklearn.model_selection import train_test_split\n",
    "from sklearn.linear_model import LogisticRegression\n",
    "from sklearn.ensemble import RandomForestClassifier\n",
    "from sklearn.metrics import f1_score, roc_auc_score, precision_score, classification_report, precision_recall_curve, confusion_matrix\n",
    "\n",
    "from gensim.corpora import Dictionary\n",
    "from gensim.models import LdaModel, TfidfModel\n",
    "\n",
    "import pymorphy2\n",
    "from nltk.corpus import stopwords\n",
    "from razdel import tokenize\n",
    "\n",
    "\n",
    "%matplotlib inline"
   ]
  },
  {
   "cell_type": "code",
   "execution_count": null,
   "metadata": {},
   "outputs": [],
   "source": [
    "## from nltk.corpus import brown\n",
    "## brown.words()"
   ]
  },
  {
   "cell_type": "code",
   "execution_count": 43,
   "metadata": {},
   "outputs": [],
   "source": [
    "def clean_text(text):\n",
    "    '''\n",
    "    Очистка текста\n",
    "    '''\n",
    "    if not isinstance(text, str):\n",
    "        text = str(text)\n",
    "    text = text.lower()\n",
    "    text = text.strip('\\n').strip('\\r').strip('\\t')\n",
    "    text = re.sub(\"-\\s\\r\\n\\|-\\s\\r\\n|\\r\\n\", '', str(text))\n",
    "    text = re.sub(\"[0-9]|[-—.,:;_%©«»?*!@#№$^•·&()]|[+=]|[[]|[]]|[/]|\", '', text)\n",
    "    text = re.sub(r\"\\r\\n\\t|\\n|\\\\s|\\r\\t|\\\\n\", ' ', text)\n",
    "    text = re.sub(r'[\\xad]|[\\s+]', ' ', text.strip())\n",
    "    return text\n",
    "\n",
    "\n",
    "def lemmatization(text):\n",
    "    '''\n",
    "    Лемматизация\n",
    "        [0] если зашел тип не `str` делаем его `str`\n",
    "        [1] токенизация предложения через razdel\n",
    "        [2] проверка есть ли в начале слова '-'\n",
    "        [3] проверка токена с одного символа\n",
    "        [4] проверка есть ли данное слово в кэше\n",
    "        [5] лемматизация слова\n",
    "        [6] проверка на стоп-слова\n",
    "    '''\n",
    "    # [0]\n",
    "    if not isinstance(text, str):\n",
    "        text = str(text)\n",
    "    # [1]\n",
    "    tokens = list(tokenize(text))\n",
    "    words = [_.text for _ in tokens]\n",
    "    words_lem = []\n",
    "    for w in words:\n",
    "        if w[0] == '-': # [2]\n",
    "            w = w[1:]\n",
    "        if len(w)>1: # [3]\n",
    "            if w in cache: # [4]\n",
    "                words_lem.append(cache[w])\n",
    "            else: # [5]\n",
    "                temp_cach = cache[w] = morph.parse(w)[0].normal_form\n",
    "                words_lem.append(temp_cach)\n",
    "    words_lem_without_stopwords=[i for i in words_lem if not i in stopword_ru] # [6]\n",
    "    return words_lem_without_stopwords"
   ]
  },
  {
   "cell_type": "code",
   "execution_count": 44,
   "metadata": {},
   "outputs": [],
   "source": [
    "def get_lda_vector(text):\n",
    "    unseen_doc = common_dictionary.doc2bow(text)\n",
    "    lda_tuple = lda[unseen_doc]\n",
    "    not_null_topics = dict(zip([i[0] for i in lda_tuple], [i[1] for i in lda_tuple]))\n",
    "\n",
    "    output_vector = []\n",
    "    for i in range(25):\n",
    "        if i not in not_null_topics:\n",
    "            output_vector.append(0)\n",
    "        else:\n",
    "            output_vector.append(not_null_topics[i])\n",
    "    return np.array(output_vector)"
   ]
  },
  {
   "cell_type": "code",
   "execution_count": 45,
   "metadata": {},
   "outputs": [],
   "source": [
    "def get_user_embedding(user_articles_list):\n",
    "    user_articles_list = eval(user_articles_list)\n",
    "    user_vector = np.array([doc_dict[doc_id] for doc_id in user_articles_list])\n",
    "    user_vector = np.mean(user_vector, 0)\n",
    "    return user_vector"
   ]
  },
  {
   "cell_type": "code",
   "execution_count": 46,
   "metadata": {},
   "outputs": [],
   "source": [
    "def plot_confusion_matrix(cm, classes,\n",
    "                          normalize=False,\n",
    "                          title='Confusion matrix',\n",
    "                          cmap=plt.cm.Blues):\n",
    "    \"\"\"\n",
    "    This function prints and plots the confusion matrix.\n",
    "    Normalization can be applied by setting `normalize=True`.\n",
    "    \"\"\"\n",
    "    plt.imshow(cm, interpolation='nearest', cmap=cmap)\n",
    "    plt.title(title)\n",
    "    plt.colorbar()\n",
    "    tick_marks = np.arange(len(classes))\n",
    "    plt.xticks(tick_marks, classes, rotation=45)\n",
    "    plt.yticks(tick_marks, classes)\n",
    "\n",
    "    if normalize:\n",
    "        cm = cm.astype('float') / cm.sum(axis=1)[:, np.newaxis]\n",
    "\n",
    "    thresh = cm.max() / 2.\n",
    "    for i, j in itertools.product(range(cm.shape[0]), range(cm.shape[1])):\n",
    "        plt.text(j, i, cm[i, j],\n",
    "                 horizontalalignment=\"center\",\n",
    "                 color=\"white\" if cm[i, j] > thresh else \"black\")\n",
    "\n",
    "    plt.tight_layout()\n",
    "    plt.ylabel('True label')\n",
    "    plt.xlabel('Predicted label')"
   ]
  },
  {
   "cell_type": "markdown",
   "metadata": {},
   "source": [
    "# Построение модели\n",
    "# Считываем данные."
   ]
  },
  {
   "cell_type": "code",
   "execution_count": 47,
   "metadata": {},
   "outputs": [],
   "source": [
    "news = pd.read_csv(\"articles.csv\")\n",
    "users = pd.read_csv(\"users_articles.csv\")\n",
    "churn = pd.read_csv(\"users_churn.csv\")"
   ]
  },
  {
   "cell_type": "code",
   "execution_count": 48,
   "metadata": {},
   "outputs": [],
   "source": [
    "stopword_ru = stopwords.words('russian')\n",
    "with open('stopwords.txt') as f:\n",
    "    additional_stopwords = [w.strip() for w in f.readlines() if w]\n",
    "stopword_ru += additional_stopwords"
   ]
  },
  {
   "cell_type": "code",
   "execution_count": 50,
   "metadata": {},
   "outputs": [],
   "source": [
    "## чистим данные\n",
    "news['title'] = news['title'].apply(lambda x: clean_text(x), 1)\n",
    "news['title'] = news['title'].apply(lambda x: lemmatization(x), 1)\n"
   ]
  },
  {
   "cell_type": "code",
   "execution_count": 51,
   "metadata": {},
   "outputs": [
    {
     "name": "stdout",
     "output_type": "stream",
     "text": [
      "adding document #0 to Dictionary(0 unique tokens: [])\n",
      "adding document #10000 to Dictionary(50151 unique tokens: ['nn', 'александр', 'алексей', 'андрей', 'армеец']...)\n",
      "adding document #20000 to Dictionary(109892 unique tokens: ['nn', 'александр', 'алексей', 'андрей', 'армеец']...)\n",
      "built Dictionary(141244 unique tokens: ['nn', 'александр', 'алексей', 'андрей', 'армеец']...) from 27000 documents (total 7675474 corpus positions)\n",
      "Dictionary lifecycle event {'msg': \"built Dictionary(141244 unique tokens: ['nn', 'александр', 'алексей', 'андрей', 'армеец']...) from 27000 documents (total 7675474 corpus positions)\", 'datetime': '2021-08-02T02:36:58.136050', 'gensim': '4.0.1', 'python': '3.8.5 (default, Sep  3 2020, 21:29:08) [MSC v.1916 64 bit (AMD64)]', 'platform': 'Windows-8.1-6.3.9600-SP0', 'event': 'created'}\n",
      "using symmetric alpha at 0.04\n",
      "using symmetric eta at 0.04\n",
      "using serial LDA version on this node\n",
      "running online (single-pass) LDA training, 25 topics, 1 passes over the supplied corpus of 27000 documents, updating model once every 2000 documents, evaluating perplexity every 20000 documents, iterating 50x with a convergence threshold of 0.001000\n",
      "PROGRESS: pass 0, at document #2000/27000\n",
      "merging changes from 2000 documents into a model of 27000 documents\n",
      "topic #5 (0.040): 0.011*\"команда\" + 0.010*\"сезон\" + 0.009*\"клуб\" + 0.008*\"год\" + 0.008*\"матч\" + 0.007*\"который\" + 0.006*\"россия\" + 0.006*\"это\" + 0.006*\"сообщать\" + 0.005*\"чемпионат\"\n",
      "topic #10 (0.040): 0.017*\"это\" + 0.010*\"клуб\" + 0.008*\"анжи\" + 0.008*\"который\" + 0.007*\"цска\" + 0.007*\"сезон\" + 0.007*\"год\" + 0.007*\"сообщать\" + 0.007*\"россия\" + 0.007*\"футболист\"\n",
      "topic #9 (0.040): 0.015*\"клуб\" + 0.008*\"сезон\" + 0.007*\"год\" + 0.007*\"матч\" + 0.007*\"команда\" + 0.007*\"провести\" + 0.006*\"мочь\" + 0.006*\"который\" + 0.006*\"сообщать\" + 0.006*\"свой\"\n",
      "topic #14 (0.040): 0.012*\"команда\" + 0.010*\"это\" + 0.009*\"свой\" + 0.009*\"приводить\" + 0.008*\"клуб\" + 0.008*\"слово\" + 0.008*\"который\" + 0.007*\"чемпионат\" + 0.007*\"сборная\" + 0.006*\"матч\"\n",
      "topic #20 (0.040): 0.010*\"это\" + 0.010*\"который\" + 0.009*\"матч\" + 0.008*\"россия\" + 0.008*\"слово\" + 0.007*\"игра\" + 0.007*\"команда\" + 0.006*\"приводить\" + 0.005*\"чемпионат\" + 0.005*\"универсиада\"\n",
      "topic diff=23.440779, rho=1.000000\n",
      "PROGRESS: pass 0, at document #4000/27000\n",
      "merging changes from 2000 documents into a model of 27000 documents\n",
      "topic #23 (0.040): 0.026*\"nn\" + 0.015*\"госдума\" + 0.011*\"следствие\" + 0.010*\"сша\" + 0.009*\"россия\" + 0.009*\"год\" + 0.007*\"преступление\" + 0.007*\"свобода\" + 0.007*\"март\" + 0.006*\"лишение\"\n",
      "topic #3 (0.040): 0.013*\"который\" + 0.013*\"депутат\" + 0.012*\"это\" + 0.011*\"год\" + 0.009*\"глава\" + 0.008*\"свой\" + 0.007*\"суд\" + 0.007*\"сообщать\" + 0.006*\"страна\" + 0.006*\"дело\"\n",
      "topic #7 (0.040): 0.009*\"россия\" + 0.008*\"матч\" + 0.007*\"сказать\" + 0.007*\"общество\" + 0.006*\"игра\" + 0.006*\"который\" + 0.006*\"гарантия\" + 0.006*\"это\" + 0.006*\"команда\" + 0.005*\"очень\"\n",
      "topic #16 (0.040): 0.018*\"это\" + 0.009*\"команда\" + 0.009*\"слово\" + 0.008*\"год\" + 0.007*\"мочь\" + 0.007*\"чемпионат\" + 0.007*\"приводить\" + 0.007*\"хороший\" + 0.007*\"всё\" + 0.006*\"играть\"\n",
      "topic #10 (0.040): 0.020*\"это\" + 0.014*\"путин\" + 0.013*\"россия\" + 0.012*\"сообщать\" + 0.012*\"год\" + 0.011*\"который\" + 0.010*\"президент\" + 0.009*\"интерфакс\" + 0.008*\"палата\" + 0.008*\"nn\"\n",
      "topic diff=0.316375, rho=0.707107\n",
      "PROGRESS: pass 0, at document #6000/27000\n",
      "merging changes from 2000 documents into a model of 27000 documents\n",
      "topic #18 (0.040): 0.030*\"год\" + 0.016*\"который\" + 0.014*\"nn\" + 0.012*\"сообщать\" + 0.009*\"это\" + 0.009*\"млн\" + 0.008*\"также\" + 0.008*\"россия\" + 0.007*\"рубль\" + 0.007*\"стать\"\n",
      "topic #16 (0.040): 0.017*\"это\" + 0.008*\"год\" + 0.008*\"слово\" + 0.007*\"мочь\" + 0.007*\"команда\" + 0.006*\"всё\" + 0.006*\"свой\" + 0.006*\"свидетель\" + 0.006*\"россия\" + 0.006*\"чемпионат\"\n",
      "topic #2 (0.040): 0.019*\"это\" + 0.017*\"гражданин\" + 0.017*\"который\" + 0.013*\"закон\" + 0.011*\"дело\" + 0.009*\"ребёнок\" + 0.008*\"свой\" + 0.007*\"человек\" + 0.007*\"nn\" + 0.007*\"мочь\"\n",
      "topic #5 (0.040): 0.096*\"проверка\" + 0.011*\"техас\" + 0.009*\"бюро\" + 0.008*\"год\" + 0.007*\"сведение\" + 0.007*\"который\" + 0.006*\"россия\" + 0.006*\"кризис\" + 0.006*\"сообщать\" + 0.006*\"вызвать\"\n",
      "topic #23 (0.040): 0.030*\"nn\" + 0.025*\"госдума\" + 0.020*\"сша\" + 0.019*\"следствие\" + 0.017*\"законопроект\" + 0.014*\"уголовный\" + 0.014*\"преступление\" + 0.013*\"свобода\" + 0.012*\"поправка\" + 0.012*\"россия\"\n",
      "topic diff=0.427776, rho=0.577350\n",
      "PROGRESS: pass 0, at document #8000/27000\n",
      "merging changes from 2000 documents into a model of 27000 documents\n",
      "topic #13 (0.040): 0.019*\"год\" + 0.014*\"который\" + 0.012*\"показ\" + 0.011*\"это\" + 0.008*\"коллекция\" + 0.008*\"свой\" + 0.006*\"март\" + 0.006*\"nn\" + 0.006*\"nreutersn\" + 0.005*\"слово\"\n",
      "topic #22 (0.040): 0.018*\"nn\" + 0.018*\"парламент\" + 0.018*\"сообщать\" + 0.017*\"статья\" + 0.016*\"год\" + 0.015*\"погибнуть\" + 0.009*\"египет\" + 0.009*\"который\" + 0.008*\"россия\" + 0.007*\"сша\"\n",
      "topic #23 (0.040): 0.030*\"nn\" + 0.022*\"госдума\" + 0.018*\"сша\" + 0.017*\"следствие\" + 0.015*\"законопроект\" + 0.013*\"уголовный\" + 0.013*\"свобода\" + 0.012*\"преступление\" + 0.011*\"год\" + 0.011*\"поправка\"\n",
      "topic #21 (0.040): 0.034*\"конкурс\" + 0.011*\"nn\" + 0.011*\"матч\" + 0.011*\"супруг\" + 0.008*\"хороший\" + 0.008*\"это\" + 0.008*\"первый\" + 0.006*\"экспрезидент\" + 0.006*\"тур\" + 0.006*\"игра\"\n",
      "topic #18 (0.040): 0.047*\"год\" + 0.020*\"млн\" + 0.018*\"nn\" + 0.016*\"сообщать\" + 0.015*\"который\" + 0.009*\"художественный\" + 0.009*\"стать\" + 0.008*\"также\" + 0.008*\"ссылка\" + 0.008*\"это\"\n",
      "topic diff=0.240984, rho=0.500000\n",
      "PROGRESS: pass 0, at document #10000/27000\n",
      "merging changes from 2000 documents into a model of 27000 documents\n",
      "topic #15 (0.040): 0.030*\"законодательство\" + 0.023*\"консультация\" + 0.016*\"жерар\" + 0.015*\"ливия\" + 0.010*\"присудить\" + 0.010*\"юрист\" + 0.008*\"сработать\" + 0.008*\"оснащение\" + 0.008*\"параметр\" + 0.007*\"связанный\"\n",
      "topic #22 (0.040): 0.020*\"погибнуть\" + 0.014*\"су\" + 0.013*\"сша\" + 0.012*\"год\" + 0.011*\"nn\" + 0.011*\"статья\" + 0.010*\"ирак\" + 0.010*\"сообщать\" + 0.009*\"иракский\" + 0.009*\"россия\"\n",
      "topic #13 (0.040): 0.026*\"альянс\" + 0.018*\"год\" + 0.013*\"который\" + 0.011*\"это\" + 0.011*\"операция\" + 0.009*\"показ\" + 0.008*\"свой\" + 0.006*\"коллекция\" + 0.006*\"доказательство\" + 0.006*\"расследование\"\n",
      "topic #10 (0.040): 0.026*\"армия\" + 0.022*\"путин\" + 0.021*\"россия\" + 0.019*\"это\" + 0.015*\"год\" + 0.012*\"территория\" + 0.010*\"который\" + 0.010*\"президент\" + 0.009*\"сообщать\" + 0.009*\"ранее\"\n",
      "topic #16 (0.040): 0.021*\"хороший\" + 0.014*\"это\" + 0.014*\"год\" + 0.011*\"кузнецов\" + 0.011*\"роль\" + 0.010*\"фирма\" + 0.008*\"век\" + 0.008*\"пространство\" + 0.008*\"стать\" + 0.007*\"знаменитый\"\n",
      "topic diff=0.340861, rho=0.447214\n",
      "PROGRESS: pass 0, at document #12000/27000\n",
      "merging changes from 2000 documents into a model of 27000 documents\n",
      "topic #19 (0.040): 0.157*\"иран\" + 0.050*\"фестиваль\" + 0.019*\"германия\" + 0.019*\"отечество\" + 0.018*\"орден\" + 0.018*\"ii\" + 0.017*\"студия\" + 0.015*\"берлин\" + 0.014*\"катастрофа\" + 0.012*\"турция\"\n",
      "topic #23 (0.040): 0.031*\"сша\" + 0.028*\"корея\" + 0.022*\"остров\" + 0.022*\"япония\" + 0.016*\"саммит\" + 0.015*\"южный\" + 0.015*\"законопроект\" + 0.015*\"nn\" + 0.013*\"санкция\" + 0.013*\"японский\"\n",
      "topic #12 (0.040): 0.217*\"ракета\" + 0.072*\"ввс\" + 0.029*\"польша\" + 0.024*\"доклад\" + 0.016*\"польский\" + 0.012*\"поразить\" + 0.009*\"размещать\" + 0.009*\"россия\" + 0.008*\"армия\" + 0.007*\"сша\"\n",
      "topic #20 (0.040): 0.021*\"россия\" + 0.013*\"который\" + 0.013*\"это\" + 0.011*\"президент\" + 0.010*\"система\" + 0.010*\"страна\" + 0.009*\"также\" + 0.009*\"российский\" + 0.009*\"заявить\" + 0.008*\"сила\"\n",
      "topic #21 (0.040): 0.037*\"донбасс\" + 0.027*\"минский\" + 0.026*\"конкурс\" + 0.025*\"украина\" + 0.020*\"донецкий\" + 0.020*\"калининградский\" + 0.013*\"украинский\" + 0.011*\"бомба\" + 0.009*\"близость\" + 0.008*\"киев\"\n",
      "topic diff=0.411339, rho=0.408248\n",
      "PROGRESS: pass 0, at document #14000/27000\n",
      "merging changes from 2000 documents into a model of 27000 documents\n",
      "topic #9 (0.040): 0.078*\"вмф\" + 0.046*\"спектакль\" + 0.026*\"звание\" + 0.024*\"лауреат\" + 0.017*\"уверять\" + 0.015*\"китаец\" + 0.012*\"король\" + 0.008*\"пролететь\" + 0.008*\"кампания\" + 0.008*\"заступить\"\n",
      "topic #22 (0.040): 0.020*\"су\" + 0.019*\"погибнуть\" + 0.013*\"сша\" + 0.013*\"статья\" + 0.012*\"ирак\" + 0.012*\"пункт\" + 0.011*\"город\" + 0.010*\"год\" + 0.010*\"применение\" + 0.009*\"удар\"\n",
      "topic #19 (0.040): 0.113*\"иран\" + 0.060*\"фестиваль\" + 0.024*\"писать\" + 0.023*\"ii\" + 0.019*\"германия\" + 0.015*\"берлин\" + 0.014*\"елизавета\" + 0.014*\"отечество\" + 0.013*\"студия\" + 0.013*\"орден\"\n",
      "topic #21 (0.040): 0.032*\"конкурс\" + 0.028*\"донбасс\" + 0.026*\"супруг\" + 0.020*\"минский\" + 0.019*\"украина\" + 0.017*\"калининградский\" + 0.015*\"донецкий\" + 0.010*\"украинский\" + 0.008*\"бомба\" + 0.007*\"это\"\n",
      "topic #4 (0.040): 0.076*\"уничтожение\" + 0.037*\"оснащение\" + 0.025*\"номинация\" + 0.020*\"превысить\" + 0.018*\"абэ\" + 0.016*\"джеймс\" + 0.007*\"моисеев\" + 0.007*\"сезон\" + 0.007*\"джефф\" + 0.006*\"кей\"\n",
      "topic diff=0.239667, rho=0.377964\n",
      "PROGRESS: pass 0, at document #16000/27000\n",
      "merging changes from 2000 documents into a model of 27000 documents\n",
      "topic #19 (0.040): 0.089*\"фестиваль\" + 0.070*\"иран\" + 0.027*\"ii\" + 0.026*\"писать\" + 0.022*\"студия\" + 0.019*\"музыка\" + 0.018*\"германия\" + 0.012*\"елизавета\" + 0.012*\"отечество\" + 0.012*\"берлин\"\n",
      "topic #20 (0.040): 0.017*\"россия\" + 0.013*\"это\" + 0.013*\"который\" + 0.009*\"также\" + 0.009*\"страна\" + 0.008*\"президент\" + 0.008*\"человек\" + 0.008*\"заявить\" + 0.008*\"год\" + 0.007*\"российский\"\n",
      "topic #4 (0.040): 0.056*\"уничтожение\" + 0.027*\"превысить\" + 0.026*\"оснащение\" + 0.019*\"номинация\" + 0.015*\"людмила\" + 0.013*\"оцепить\" + 0.013*\"дождь\" + 0.013*\"абэ\" + 0.012*\"джеймс\" + 0.012*\"босния\"\n",
      "topic #18 (0.040): 0.058*\"год\" + 0.020*\"млн\" + 0.012*\"который\" + 0.011*\"сообщать\" + 0.010*\"nn\" + 0.010*\"также\" + 0.009*\"рубль\" + 0.009*\"тыс\" + 0.009*\"стать\" + 0.009*\"это\"\n",
      "topic #14 (0.040): 0.065*\"военный\" + 0.029*\"сша\" + 0.021*\"американский\" + 0.015*\"год\" + 0.014*\"свой\" + 0.013*\"это\" + 0.012*\"писать\" + 0.011*\"боевой\" + 0.010*\"российский\" + 0.010*\"который\"\n",
      "topic diff=0.242305, rho=0.353553\n",
      "PROGRESS: pass 0, at document #18000/27000\n",
      "merging changes from 2000 documents into a model of 27000 documents\n",
      "topic #5 (0.040): 0.316*\"проверка\" + 0.043*\"товар\" + 0.018*\"китайский\" + 0.011*\"заинтересоваться\" + 0.011*\"техас\" + 0.010*\"повышаться\" + 0.009*\"кризис\" + 0.009*\"освещать\" + 0.009*\"fox\" + 0.007*\"проблемный\"\n",
      "topic #6 (0.040): 0.032*\"летний\" + 0.031*\"ребёнок\" + 0.026*\"девочка\" + 0.021*\"женщина\" + 0.020*\"дом\" + 0.020*\"сын\" + 0.015*\"год\" + 0.015*\"мужчина\" + 0.013*\"отец\" + 0.013*\"сосед\"\n",
      "topic #24 (0.040): 0.030*\"это\" + 0.019*\"всё\" + 0.014*\"мочь\" + 0.013*\"свой\" + 0.010*\"который\" + 0.009*\"весь\" + 0.008*\"очень\" + 0.008*\"время\" + 0.007*\"говорить\" + 0.007*\"слово\"\n",
      "topic #16 (0.040): 0.016*\"еда\" + 0.013*\"хороший\" + 0.013*\"дневный\" + 0.012*\"это\" + 0.012*\"год\" + 0.012*\"век\" + 0.011*\"кризис\" + 0.010*\"свидетель\" + 0.010*\"фирма\" + 0.009*\"кузнецов\"\n",
      "topic #11 (0.040): 0.017*\"это\" + 0.015*\"температура\" + 0.014*\"год\" + 0.013*\"напомнить\" + 0.012*\"день\" + 0.011*\"который\" + 0.011*\"погода\" + 0.009*\"атмосферный\" + 0.008*\"ночью\" + 0.008*\"весь\"\n",
      "topic diff=0.299533, rho=0.333333\n",
      "-15.271 per-word bound, 39553.0 perplexity estimate based on a held-out corpus of 2000 documents with 1254055 words\n",
      "PROGRESS: pass 0, at document #20000/27000\n",
      "merging changes from 2000 documents into a model of 27000 documents\n",
      "topic #11 (0.040): 0.018*\"это\" + 0.016*\"год\" + 0.012*\"напомнить\" + 0.010*\"день\" + 0.010*\"который\" + 0.010*\"цена\" + 0.009*\"температура\" + 0.008*\"весь\" + 0.007*\"турецкий\" + 0.007*\"погода\"\n",
      "topic #12 (0.040): 0.086*\"ракета\" + 0.044*\"польша\" + 0.040*\"доклад\" + 0.034*\"подросток\" + 0.034*\"ученик\" + 0.029*\"ввс\" + 0.024*\"польский\" + 0.013*\"размещать\" + 0.012*\"снежный\" + 0.009*\"урегулировать\"\n",
      "topic #23 (0.040): 0.035*\"уголовный\" + 0.027*\"преступление\" + 0.026*\"санкция\" + 0.024*\"следствие\" + 0.021*\"законопроект\" + 0.017*\"ук\" + 0.017*\"свобода\" + 0.016*\"лицо\" + 0.015*\"судья\" + 0.015*\"приговор\"\n",
      "topic #16 (0.040): 0.036*\"кризис\" + 0.014*\"еда\" + 0.012*\"год\" + 0.012*\"фирма\" + 0.012*\"хороший\" + 0.012*\"это\" + 0.010*\"дневный\" + 0.009*\"резкий\" + 0.009*\"параметр\" + 0.009*\"евро\"\n",
      "topic #5 (0.040): 0.215*\"товар\" + 0.204*\"проверка\" + 0.044*\"китайский\" + 0.030*\"проблемный\" + 0.021*\"кризис\" + 0.016*\"повышаться\" + 0.011*\"техас\" + 0.010*\"заинтересоваться\" + 0.008*\"бюро\" + 0.007*\"нецелесообразный\"\n",
      "topic diff=0.198154, rho=0.316228\n",
      "PROGRESS: pass 0, at document #22000/27000\n",
      "merging changes from 2000 documents into a model of 27000 documents\n",
      "topic #23 (0.040): 0.046*\"санкция\" + 0.029*\"уголовный\" + 0.023*\"законопроект\" + 0.022*\"преступление\" + 0.021*\"следствие\" + 0.017*\"лицо\" + 0.015*\"ук\" + 0.015*\"закон\" + 0.014*\"свобода\" + 0.014*\"nn\"\n",
      "topic #3 (0.040): 0.023*\"год\" + 0.016*\"это\" + 0.014*\"млрд\" + 0.012*\"который\" + 0.012*\"банк\" + 0.010*\"российский\" + 0.009*\"россия\" + 0.009*\"также\" + 0.006*\"компания\" + 0.006*\"рынок\"\n",
      "topic #5 (0.040): 0.255*\"товар\" + 0.169*\"проверка\" + 0.051*\"китайский\" + 0.030*\"проблемный\" + 0.020*\"кризис\" + 0.019*\"повышаться\" + 0.009*\"техас\" + 0.008*\"заинтересоваться\" + 0.008*\"дизель\" + 0.007*\"бюро\"\n",
      "topic #15 (0.040): 0.110*\"законодательство\" + 0.057*\"юрист\" + 0.044*\"консультация\" + 0.040*\"ливия\" + 0.028*\"спешить\" + 0.027*\"снизить\" + 0.024*\"отбор\" + 0.020*\"параметр\" + 0.017*\"аннулировать\" + 0.014*\"волков\"\n",
      "topic #16 (0.040): 0.039*\"кризис\" + 0.014*\"еда\" + 0.012*\"год\" + 0.012*\"хороший\" + 0.012*\"евро\" + 0.011*\"фирма\" + 0.011*\"это\" + 0.011*\"параметр\" + 0.010*\"резкий\" + 0.009*\"ирландия\"\n",
      "topic diff=0.105056, rho=0.301511\n",
      "PROGRESS: pass 0, at document #24000/27000\n",
      "merging changes from 2000 documents into a model of 27000 documents\n",
      "topic #18 (0.040): 0.077*\"год\" + 0.026*\"рубль\" + 0.022*\"млн\" + 0.016*\"рост\" + 0.014*\"компания\" + 0.011*\"тыс\" + 0.011*\"составить\" + 0.010*\"который\" + 0.010*\"доход\" + 0.010*\"это\"\n",
      "topic #8 (0.040): 0.020*\"источник\" + 0.015*\"сша\" + 0.015*\"чиновник\" + 0.015*\"сотрудник\" + 0.013*\"данные\" + 0.012*\"который\" + 0.012*\"задержать\" + 0.012*\"россия\" + 0.011*\"это\" + 0.010*\"полиция\"\n",
      "topic #16 (0.040): 0.035*\"кризис\" + 0.013*\"еда\" + 0.011*\"фирма\" + 0.011*\"год\" + 0.011*\"хороший\" + 0.011*\"это\" + 0.010*\"век\" + 0.010*\"параметр\" + 0.010*\"евро\" + 0.010*\"знаменитый\"\n",
      "topic #21 (0.040): 0.055*\"конкурс\" + 0.033*\"супруг\" + 0.016*\"развивающийся\" + 0.013*\"актуальный\" + 0.012*\"комплексный\" + 0.012*\"корзина\" + 0.011*\"украина\" + 0.010*\"савченко\" + 0.009*\"седьмой\" + 0.009*\"калининградский\"\n",
      "topic #9 (0.040): 0.204*\"фонд\" + 0.051*\"марка\" + 0.028*\"спектакль\" + 0.027*\"уверять\" + 0.016*\"деловой\" + 0.013*\"лауреат\" + 0.012*\"смирнов\" + 0.012*\"вмф\" + 0.011*\"гражданин\" + 0.011*\"пиво\"\n",
      "topic diff=0.219140, rho=0.288675\n",
      "PROGRESS: pass 0, at document #26000/27000\n",
      "merging changes from 2000 documents into a model of 27000 documents\n",
      "topic #8 (0.040): 0.019*\"источник\" + 0.014*\"который\" + 0.013*\"сотрудник\" + 0.012*\"сша\" + 0.011*\"операция\" + 0.011*\"данные\" + 0.010*\"это\" + 0.010*\"чиновник\" + 0.010*\"эксперимент\" + 0.008*\"космос\"\n",
      "topic #16 (0.040): 0.022*\"век\" + 0.020*\"кризис\" + 0.017*\"знаменитый\" + 0.014*\"год\" + 0.014*\"необычный\" + 0.011*\"остров\" + 0.011*\"еда\" + 0.011*\"медицина\" + 0.010*\"параметр\" + 0.010*\"немец\"\n",
      "topic #21 (0.040): 0.043*\"конкурс\" + 0.032*\"супруг\" + 0.013*\"развивающийся\" + 0.012*\"команда\" + 0.011*\"актуальный\" + 0.010*\"комплексный\" + 0.010*\"лестница\" + 0.009*\"игра\" + 0.009*\"определяться\" + 0.008*\"кровь\"\n",
      "topic #5 (0.040): 0.178*\"проверка\" + 0.172*\"товар\" + 0.066*\"китайский\" + 0.023*\"проблемный\" + 0.022*\"повышаться\" + 0.015*\"заинтересоваться\" + 0.013*\"кризис\" + 0.009*\"регистрировать\" + 0.007*\"техас\" + 0.006*\"университет\"\n",
      "topic #10 (0.040): 0.017*\"это\" + 0.015*\"россия\" + 0.015*\"путин\" + 0.014*\"год\" + 0.013*\"армия\" + 0.013*\"москва\" + 0.011*\"территория\" + 0.010*\"nn\" + 0.009*\"который\" + 0.008*\"торговый\"\n",
      "topic diff=0.235777, rho=0.277350\n",
      "-17.809 per-word bound, 229671.9 perplexity estimate based on a held-out corpus of 1000 documents with 99587 words\n",
      "PROGRESS: pass 0, at document #27000/27000\n",
      "merging changes from 1000 documents into a model of 27000 documents\n",
      "topic #4 (0.040): 0.093*\"превысить\" + 0.030*\"уничтожение\" + 0.019*\"людмила\" + 0.017*\"номинация\" + 0.016*\"кристалл\" + 0.011*\"франк\" + 0.011*\"оцепить\" + 0.010*\"моисеев\" + 0.010*\"оснащение\" + 0.009*\"хорватский\"\n",
      "topic #1 (0.040): 0.081*\"смерть\" + 0.052*\"фотография\" + 0.045*\"фильм\" + 0.036*\"кровь\" + 0.033*\"мальчик\" + 0.026*\"лодка\" + 0.016*\"грант\" + 0.013*\"кресло\" + 0.012*\"приток\" + 0.011*\"экспериментальный\"\n",
      "topic #21 (0.040): 0.048*\"конкурс\" + 0.029*\"супруг\" + 0.012*\"развивающийся\" + 0.012*\"актуальный\" + 0.011*\"команда\" + 0.010*\"комплексный\" + 0.010*\"игра\" + 0.009*\"определяться\" + 0.009*\"лестница\" + 0.008*\"победитель\"\n",
      "topic #18 (0.040): 0.084*\"год\" + 0.023*\"рубль\" + 0.022*\"млн\" + 0.015*\"рост\" + 0.013*\"компания\" + 0.011*\"тыс\" + 0.011*\"который\" + 0.010*\"составить\" + 0.009*\"это\" + 0.009*\"доход\"\n",
      "topic #2 (0.040): 0.022*\"это\" + 0.016*\"который\" + 0.016*\"украина\" + 0.010*\"гражданин\" + 0.009*\"мочь\" + 0.008*\"человек\" + 0.008*\"украинский\" + 0.007*\"экономика\" + 0.007*\"экономический\" + 0.007*\"год\"\n",
      "topic diff=0.198668, rho=0.267261\n",
      "LdaModel lifecycle event {'msg': 'trained LdaModel(num_terms=141244, num_topics=25, decay=0.5, chunksize=2000) in 71.26s', 'datetime': '2021-08-02T02:38:26.592137', 'gensim': '4.0.1', 'python': '3.8.5 (default, Sep  3 2020, 21:29:08) [MSC v.1916 64 bit (AMD64)]', 'platform': 'Windows-8.1-6.3.9600-SP0', 'event': 'created'}\n"
     ]
    }
   ],
   "source": [
    "## Получаем эмбеддинги документов по словам и обучаем LDA модель.\n",
    "#сформируем список наших текстов, разбив еще и на пробелы\n",
    "texts = news['title'].tolist()\n",
    "# Create a corpus from a list of texts\n",
    "common_dictionary = Dictionary(news['title'].values)\n",
    "common_corpus = [common_dictionary.doc2bow(text) for text in texts]\n",
    "# Train the model on the corpus.\n",
    "lda = LdaModel(common_corpus, num_topics=25, id2word=common_dictionary)#, passes=10)"
   ]
  },
  {
   "cell_type": "code",
   "execution_count": 52,
   "metadata": {},
   "outputs": [],
   "source": [
    "## Получаем эмбеддинги документов по темам.\n",
    "topic_matrix = pd.DataFrame([get_lda_vector(text) for text in news['title'].values])\n",
    "topic_matrix.columns = ['topic_{}'.format(i) for i in range(25)]\n",
    "topic_matrix['doc_id'] = news['doc_id'].values\n",
    "topic_matrix = topic_matrix[['doc_id']+['topic_{}'.format(i) for i in range(25)]]\n",
    "doc_dict = dict(zip(topic_matrix['doc_id'].values, topic_matrix[['topic_{}'.format(i) for i in range(25)]].values))"
   ]
  },
  {
   "cell_type": "code",
   "execution_count": 53,
   "metadata": {},
   "outputs": [],
   "source": [
    "def train_embeddings_and_model(users, churn, user_embedding_fnc):\n",
    "    # Получаем эмбеддинги пользователей по темам.\n",
    "    user_embeddings = pd.DataFrame([i for i in users['articles'].apply(user_embedding_fnc, 1)])\n",
    "    user_embeddings.columns = ['topic_{}'.format(i) for i in range(25)]\n",
    "    user_embeddings['uid'] = users['uid'].values\n",
    "    user_embeddings = user_embeddings[['uid']+['topic_{}'.format(i) for i in range(25)]]\n",
    "\n",
    "    # Обучаем логистическую регрессию на данных оттока и эмбеддингах пользователей.\n",
    "    X = pd.merge(user_embeddings, churn, 'left')\n",
    "    X_train, X_test, y_train, y_test = train_test_split(X[['topic_{}'.format(i) for i in range(25)]], \n",
    "                                                        X['churn'],\n",
    "                                                        random_state=0)\n",
    "    # logreg = LogisticRegression()\n",
    "    logreg = RandomForestClassifier()\n",
    "    logreg.fit(X_train, y_train)\n",
    "\n",
    "    # Рассчитаем F1-score, ROC-AUC, построим матрицу ошибок\n",
    "    preds = logreg.predict_proba(X_test)[:, 1]\n",
    "    # print(pd.DataFrame({'test': y_test, 'pred': preds}))\n",
    "    precision, recall, thresholds = precision_recall_curve(y_test, preds)\n",
    "    # print(precision, recall)\n",
    "    f1 = (2 * precision * recall) / (precision + recall)\n",
    "    ix = np.argmax(f1)\n",
    "\n",
    "    precision_score = precision[ix]\n",
    "    recall_score = recall[ix]\n",
    "    f1_score = f1[ix]\n",
    "    print(f'F1 score: {f1_score}')\n",
    "\n",
    "    roc_auc = roc_auc_score(y_test, preds)\n",
    "    print(f'ROC-AUC score: {roc_auc}')\n",
    "\n",
    "    font = {'size' : 15}\n",
    "    plt.rc('font', **font)\n",
    "    cnf_matrix = confusion_matrix(y_test, preds>thresholds[ix])\n",
    "    plt.figure(figsize=(10, 8))\n",
    "    plot_confusion_matrix(cnf_matrix,\n",
    "                          classes=['Non-Churn', 'Churn'],\n",
    "                          title='Confusion matrix')\n",
    "    plt.show()\n",
    "\n",
    "    return {'precision': precision_score,\n",
    "            'recall': recall_score,\n",
    "            'f1_score': f1_score,\n",
    "            'roc_auc': roc_auc}"
   ]
  },
  {
   "cell_type": "code",
   "execution_count": 54,
   "metadata": {},
   "outputs": [
    {
     "name": "stdout",
     "output_type": "stream",
     "text": [
      "F1 score: 0.856581532416503\n",
      "ROC-AUC score: 0.9838990638990639\n"
     ]
    },
    {
     "data": {
      "image/png": "[encoded data removed]",
      "text/plain": [
       "<Figure size 720x576 with 2 Axes>"
      ]
     },
     "metadata": {
      "needs_background": "light"
     },
     "output_type": "display_data"
    }
   ],
   "source": [
    "metrics_mean = train_embeddings_and_model(users, churn, get_user_embedding)\n",
    "metrics_df = pd.DataFrame({key: [value] for key, value in metrics_mean.items()})"
   ]
  },
  {
   "cell_type": "code",
   "execution_count": 55,
   "metadata": {},
   "outputs": [
    {
     "data": {
      "text/html": [
       "<div>\n",
       "<style scoped>\n",
       "    .dataframe tbody tr th:only-of-type {\n",
       "        vertical-align: middle;\n",
       "    }\n",
       "\n",
       "    .dataframe tbody tr th {\n",
       "        vertical-align: top;\n",
       "    }\n",
       "\n",
       "    .dataframe thead th {\n",
       "        text-align: right;\n",
       "    }\n",
       "</style>\n",
       "<table border=\"1\" class=\"dataframe\">\n",
       "  <thead>\n",
       "    <tr style=\"text-align: right;\">\n",
       "      <th></th>\n",
       "      <th>precision</th>\n",
       "      <th>recall</th>\n",
       "      <th>f1_score</th>\n",
       "      <th>roc_auc</th>\n",
       "    </tr>\n",
       "  </thead>\n",
       "  <tbody>\n",
       "    <tr>\n",
       "      <th>0</th>\n",
       "      <td>0.825758</td>\n",
       "      <td>0.889796</td>\n",
       "      <td>0.856582</td>\n",
       "      <td>0.983899</td>\n",
       "    </tr>\n",
       "  </tbody>\n",
       "</table>\n",
       "</div>"
      ],
      "text/plain": [
       "   precision    recall  f1_score   roc_auc\n",
       "0   0.825758  0.889796  0.856582  0.983899"
      ]
     },
     "execution_count": 55,
     "metadata": {},
     "output_type": "execute_result"
    }
   ],
   "source": [
    "metrics_df"
   ]
  },
  {
   "cell_type": "markdown",
   "metadata": {},
   "source": [
    "# Домашнее задание"
   ]
  },
  {
   "cell_type": "code",
   "execution_count": 56,
   "metadata": {},
   "outputs": [],
   "source": [
    "## Задание 2.\n",
    "## Модифицировать код функции get_user_embedding таким образом, чтобы считалось не среднее (как в примере np.mean),\n",
    "## а медиана.\n",
    "def get_user_embedding_median(user_articles_list):\n",
    "    user_articles_list = eval(user_articles_list)\n",
    "    user_vector = np.array([doc_dict[doc_id] for doc_id in user_articles_list])\n",
    "    # .mean() на .median()\n",
    "    user_vector = np.median(user_vector, 0)\n",
    "    return user_vector\n"
   ]
  },
  {
   "cell_type": "code",
   "execution_count": 57,
   "metadata": {},
   "outputs": [
    {
     "name": "stdout",
     "output_type": "stream",
     "text": [
      "F1 score: 0.9327902240325866\n",
      "ROC-AUC score: 0.9957264957264957\n"
     ]
    },
    {
     "data": {
      "image/png": "[encoded data removed]",
      "text/plain": [
       "<Figure size 720x576 with 2 Axes>"
      ]
     },
     "metadata": {
      "needs_background": "light"
     },
     "output_type": "display_data"
    }
   ],
   "source": [
    "## Применить такое преобразование к данным, обучить модель прогнозирования оттока и посчитать метрики\n",
    "## качества и сохранить их: roc auc, precision/recall/f_score (для 3 последних - подобрать оптимальный порог \n",
    "## с помощью precision_recall_curve, как это делалось на уроке)\n",
    "\n",
    "## Сохраняем метрики для user embeddings через .median().\n",
    "metrics_median = train_embeddings_and_model(users, churn, get_user_embedding_median)\n",
    "metrics_df = metrics_df.append(metrics_median, ignore_index=True)\n"
   ]
  },
  {
   "cell_type": "code",
   "execution_count": 58,
   "metadata": {},
   "outputs": [
    {
     "data": {
      "text/html": [
       "<div>\n",
       "<style scoped>\n",
       "    .dataframe tbody tr th:only-of-type {\n",
       "        vertical-align: middle;\n",
       "    }\n",
       "\n",
       "    .dataframe tbody tr th {\n",
       "        vertical-align: top;\n",
       "    }\n",
       "\n",
       "    .dataframe thead th {\n",
       "        text-align: right;\n",
       "    }\n",
       "</style>\n",
       "<table border=\"1\" class=\"dataframe\">\n",
       "  <thead>\n",
       "    <tr style=\"text-align: right;\">\n",
       "      <th></th>\n",
       "      <th>precision</th>\n",
       "      <th>recall</th>\n",
       "      <th>f1_score</th>\n",
       "      <th>roc_auc</th>\n",
       "    </tr>\n",
       "  </thead>\n",
       "  <tbody>\n",
       "    <tr>\n",
       "      <th>0</th>\n",
       "      <td>0.825758</td>\n",
       "      <td>0.889796</td>\n",
       "      <td>0.856582</td>\n",
       "      <td>0.983899</td>\n",
       "    </tr>\n",
       "    <tr>\n",
       "      <th>1</th>\n",
       "      <td>0.930894</td>\n",
       "      <td>0.934694</td>\n",
       "      <td>0.932790</td>\n",
       "      <td>0.995726</td>\n",
       "    </tr>\n",
       "  </tbody>\n",
       "</table>\n",
       "</div>"
      ],
      "text/plain": [
       "   precision    recall  f1_score   roc_auc\n",
       "0   0.825758  0.889796  0.856582  0.983899\n",
       "1   0.930894  0.934694  0.932790  0.995726"
      ]
     },
     "execution_count": 58,
     "metadata": {},
     "output_type": "execute_result"
    }
   ],
   "source": [
    "metrics_df"
   ]
  },
  {
   "cell_type": "code",
   "execution_count": 59,
   "metadata": {},
   "outputs": [],
   "source": [
    "## Задание 3.\n",
    "## Повторить п.2, но используя уже не медиану, а max.\n",
    "def get_user_embedding_max(user_articles_list):\n",
    "    user_articles_list = eval(user_articles_list)\n",
    "    user_vector = np.array([doc_dict[doc_id] for doc_id in user_articles_list])\n",
    "    # .mean() на .max()\n",
    "    user_vector = np.max(user_vector, 0)\n",
    "    return user_vector"
   ]
  },
  {
   "cell_type": "code",
   "execution_count": 60,
   "metadata": {},
   "outputs": [
    {
     "name": "stdout",
     "output_type": "stream",
     "text": [
      "F1 score: 0.8329896907216495\n",
      "ROC-AUC score: 0.9781684981684982\n"
     ]
    },
    {
     "data": {
      "image/png": "[encoded data removed]",
      "text/plain": [
       "<Figure size 720x576 with 2 Axes>"
      ]
     },
     "metadata": {
      "needs_background": "light"
     },
     "output_type": "display_data"
    }
   ],
   "source": [
    "metrics_max = train_embeddings_and_model(users, churn, get_user_embedding_max)\n",
    "metrics_df = metrics_df.append(metrics_max, ignore_index=True)"
   ]
  },
  {
   "cell_type": "code",
   "execution_count": 61,
   "metadata": {},
   "outputs": [
    {
     "data": {
      "text/html": [
       "<div>\n",
       "<style scoped>\n",
       "    .dataframe tbody tr th:only-of-type {\n",
       "        vertical-align: middle;\n",
       "    }\n",
       "\n",
       "    .dataframe tbody tr th {\n",
       "        vertical-align: top;\n",
       "    }\n",
       "\n",
       "    .dataframe thead th {\n",
       "        text-align: right;\n",
       "    }\n",
       "</style>\n",
       "<table border=\"1\" class=\"dataframe\">\n",
       "  <thead>\n",
       "    <tr style=\"text-align: right;\">\n",
       "      <th></th>\n",
       "      <th>precision</th>\n",
       "      <th>recall</th>\n",
       "      <th>f1_score</th>\n",
       "      <th>roc_auc</th>\n",
       "    </tr>\n",
       "  </thead>\n",
       "  <tbody>\n",
       "    <tr>\n",
       "      <th>0</th>\n",
       "      <td>0.825758</td>\n",
       "      <td>0.889796</td>\n",
       "      <td>0.856582</td>\n",
       "      <td>0.983899</td>\n",
       "    </tr>\n",
       "    <tr>\n",
       "      <th>1</th>\n",
       "      <td>0.930894</td>\n",
       "      <td>0.934694</td>\n",
       "      <td>0.932790</td>\n",
       "      <td>0.995726</td>\n",
       "    </tr>\n",
       "    <tr>\n",
       "      <th>2</th>\n",
       "      <td>0.841667</td>\n",
       "      <td>0.824490</td>\n",
       "      <td>0.832990</td>\n",
       "      <td>0.978168</td>\n",
       "    </tr>\n",
       "  </tbody>\n",
       "</table>\n",
       "</div>"
      ],
      "text/plain": [
       "   precision    recall  f1_score   roc_auc\n",
       "0   0.825758  0.889796  0.856582  0.983899\n",
       "1   0.930894  0.934694  0.932790  0.995726\n",
       "2   0.841667  0.824490  0.832990  0.978168"
      ]
     },
     "execution_count": 61,
     "metadata": {},
     "output_type": "execute_result"
    }
   ],
   "source": [
    "metrics_df"
   ]
  },
  {
   "cell_type": "code",
   "execution_count": 62,
   "metadata": {},
   "outputs": [],
   "source": [
    "## Задание 4.\n",
    "## (опциональное, если очень хочется) Воспользовавшись полученными знаниями из п.1, повторить пункт 2,\n",
    "## но уже взвешивая новости по tfidf (подсказка: нужно получить веса-коэффициенты для каждого документа.\n",
    "## Не все документы одинаково информативны и несут какой-то положительный сигнал).\n",
    "## Подсказка 2 - нужен именно idf, как вес."
   ]
  },
  {
   "cell_type": "code",
   "execution_count": 63,
   "metadata": {},
   "outputs": [
    {
     "name": "stdout",
     "output_type": "stream",
     "text": [
      "collecting document frequencies\n",
      "PROGRESS: processing document #0\n",
      "PROGRESS: processing document #10000\n",
      "PROGRESS: processing document #20000\n",
      "TfidfModel lifecycle event {'msg': 'calculated IDF weights for 27000 documents and 141244 features (4801345 matrix non-zeros)', 'datetime': '2021-08-02T02:49:39.560149', 'gensim': '4.0.1', 'python': '3.8.5 (default, Sep  3 2020, 21:29:08) [MSC v.1916 64 bit (AMD64)]', 'platform': 'Windows-8.1-6.3.9600-SP0', 'event': 'initialize'}\n"
     ]
    }
   ],
   "source": [
    "tfidf_model = TfidfModel(common_corpus)\n",
    "common_corpus_tfidf = [tfidf_model[doc] for doc in common_corpus]"
   ]
  },
  {
   "cell_type": "code",
   "execution_count": 64,
   "metadata": {},
   "outputs": [
    {
     "name": "stdout",
     "output_type": "stream",
     "text": [
      "using symmetric alpha at 0.04\n",
      "using symmetric eta at 0.04\n",
      "using serial LDA version on this node\n",
      "running online (single-pass) LDA training, 25 topics, 1 passes over the supplied corpus of 27000 documents, updating model once every 2000 documents, evaluating perplexity every 20000 documents, iterating 50x with a convergence threshold of 0.001000\n",
      "PROGRESS: pass 0, at document #2000/27000\n",
      "merging changes from 2000 documents into a model of 27000 documents\n",
      "topic #9 (0.040): 0.004*\"команда\" + 0.004*\"клуб\" + 0.003*\"универсиада\" + 0.003*\"матч\" + 0.003*\"сборная\" + 0.003*\"турнир\" + 0.003*\"тренер\" + 0.002*\"сезон\" + 0.002*\"финал\" + 0.002*\"чемпионат\"\n",
      "topic #1 (0.040): 0.005*\"матч\" + 0.004*\"клуб\" + 0.004*\"команда\" + 0.003*\"сезон\" + 0.002*\"финал\" + 0.002*\"тренер\" + 0.002*\"сборная\" + 0.002*\"футболист\" + 0.002*\"нхл\" + 0.002*\"игра\"\n",
      "topic #15 (0.040): 0.005*\"команда\" + 0.004*\"матч\" + 0.004*\"универсиада\" + 0.003*\"сборная\" + 0.003*\"турнир\" + 0.003*\"финал\" + 0.003*\"клуб\" + 0.003*\"спартак\" + 0.002*\"победа\" + 0.002*\"чемпионат\"\n",
      "topic #10 (0.040): 0.004*\"матч\" + 0.003*\"клуб\" + 0.002*\"анжи\" + 0.002*\"чемпионат\" + 0.002*\"сборная\" + 0.002*\"полузащитник\" + 0.002*\"универсиада\" + 0.002*\"сезон\" + 0.002*\"игра\" + 0.002*\"футболист\"\n",
      "topic #17 (0.040): 0.005*\"матч\" + 0.004*\"команда\" + 0.004*\"клуб\" + 0.003*\"универсиада\" + 0.003*\"чемпионат\" + 0.003*\"игрок\" + 0.003*\"сборная\" + 0.003*\"тренер\" + 0.002*\"приводить\" + 0.002*\"сезон\"\n",
      "topic diff=22.946974, rho=1.000000\n",
      "PROGRESS: pass 0, at document #4000/27000\n",
      "merging changes from 2000 documents into a model of 27000 documents\n",
      "topic #3 (0.040): 0.003*\"смерть\" + 0.003*\"матч\" + 0.003*\"универсиада\" + 0.003*\"путин\" + 0.003*\"пресссекретарить\" + 0.003*\"песок\" + 0.003*\"си\" + 0.002*\"чемпионат\" + 0.002*\"сборная\" + 0.002*\"очко\"\n",
      "topic #24 (0.040): 0.006*\"универсиада\" + 0.004*\"матч\" + 0.003*\"команда\" + 0.003*\"финал\" + 0.003*\"турнир\" + 0.003*\"сборная\" + 0.003*\"казань\" + 0.002*\"играть\" + 0.002*\"чемпионат\" + 0.002*\"сезон\"\n",
      "topic #9 (0.040): 0.005*\"партия\" + 0.003*\"суд\" + 0.003*\"госдума\" + 0.003*\"гарроса\" + 0.003*\"команда\" + 0.003*\"правительство\" + 0.003*\"этика\" + 0.003*\"тренер\" + 0.003*\"матч\" + 0.002*\"ролан\"\n",
      "topic #13 (0.040): 0.004*\"матч\" + 0.004*\"универсиада\" + 0.002*\"кения\" + 0.002*\"чемпионат\" + 0.002*\"сборная\" + 0.002*\"динамо\" + 0.002*\"тимощука\" + 0.002*\"цска\" + 0.002*\"финал\" + 0.002*\"команда\"\n",
      "topic #4 (0.040): 0.004*\"универсиада\" + 0.003*\"секунда\" + 0.002*\"клуб\" + 0.002*\"матч\" + 0.002*\"команда\" + 0.002*\"сезон\" + 0.002*\"дистанция\" + 0.002*\"орган\" + 0.002*\"власть\" + 0.002*\"глава\"\n",
      "topic diff=0.146298, rho=0.707107\n",
      "PROGRESS: pass 0, at document #6000/27000\n",
      "merging changes from 2000 documents into a model of 27000 documents\n",
      "topic #1 (0.040): 0.013*\"мурси\" + 0.009*\"египет\" + 0.007*\"конституционный\" + 0.005*\"статья\" + 0.004*\"ук\" + 0.003*\"оао\" + 0.003*\"ст\" + 0.002*\"жуковский\" + 0.002*\"политический\" + 0.002*\"брат\"\n",
      "topic #8 (0.040): 0.010*\"кузьмин\" + 0.005*\"nreutersn\" + 0.003*\"чен\" + 0.002*\"брат\" + 0.002*\"матч\" + 0.001*\"сша\" + 0.001*\"переизбрание\" + 0.001*\"освободить\" + 0.001*\"сборная\" + 0.001*\"бразилия\"\n",
      "topic #17 (0.040): 0.006*\"мандат\" + 0.004*\"франсуа\" + 0.004*\"израиль\" + 0.004*\"партия\" + 0.003*\"кривов\" + 0.003*\"матч\" + 0.002*\"тренер\" + 0.002*\"команда\" + 0.002*\"клуб\" + 0.002*\"мэр\"\n",
      "topic #21 (0.040): 0.005*\"полицейский\" + 0.005*\"задержать\" + 0.005*\"полиция\" + 0.004*\"источник\" + 0.003*\"операция\" + 0.003*\"матч\" + 0.003*\"чиновник\" + 0.002*\"воскресение\" + 0.002*\"клуб\" + 0.002*\"сотрудник\"\n",
      "topic #20 (0.040): 0.010*\"парламент\" + 0.006*\"погибнуть\" + 0.005*\"четверг\" + 0.005*\"сша\" + 0.004*\"следствие\" + 0.004*\"журналист\" + 0.004*\"закон\" + 0.003*\"правительство\" + 0.003*\"президент\" + 0.003*\"заседание\"\n",
      "topic diff=0.190557, rho=0.577350\n",
      "PROGRESS: pass 0, at document #8000/27000\n",
      "merging changes from 2000 documents into a model of 27000 documents\n",
      "topic #24 (0.040): 0.009*\"номинация\" + 0.002*\"ереван\" + 0.002*\"канал\" + 0.002*\"универсиада\" + 0.001*\"техас\" + 0.001*\"яковлев\" + 0.001*\"таджикистан\" + 0.001*\"матч\" + 0.001*\"арабский\" + 0.001*\"браун\"\n",
      "topic #3 (0.040): 0.006*\"смерть\" + 0.005*\"долматов\" + 0.005*\"палата\" + 0.003*\"пресссекретарить\" + 0.003*\"лауреат\" + 0.003*\"песок\" + 0.002*\"путин\" + 0.002*\"песков\" + 0.002*\"приз\" + 0.002*\"юбилейный\"\n",
      "topic #0 (0.040): 0.039*\"фильм\" + 0.019*\"актёр\" + 0.009*\"медведев\" + 0.007*\"конкурс\" + 0.006*\"письмо\" + 0.004*\"приз\" + 0.004*\"nthe\" + 0.003*\"ссылка\" + 0.003*\"гражданство\" + 0.003*\"общество\"\n",
      "topic #22 (0.040): 0.006*\"наследие\" + 0.005*\"постановка\" + 0.003*\"звёздный\" + 0.002*\"писать\" + 0.002*\"выпуск\" + 0.001*\"серж\" + 0.001*\"век\" + 0.001*\"команда\" + 0.001*\"лукас\" + 0.001*\"прессатташе\"\n",
      "topic #6 (0.040): 0.004*\"сенат\" + 0.003*\"астахов\" + 0.002*\"бок\" + 0.002*\"джонс\" + 0.001*\"демократия\" + 0.001*\"мемориальный\" + 0.001*\"память\" + 0.001*\"матч\" + 0.001*\"источник\" + 0.001*\"малийский\"\n",
      "topic diff=0.139778, rho=0.500000\n",
      "PROGRESS: pass 0, at document #10000/27000\n",
      "merging changes from 2000 documents into a model of 27000 documents\n",
      "topic #17 (0.040): 0.008*\"израиль\" + 0.002*\"мандат\" + 0.002*\"франсуа\" + 0.002*\"учебный\" + 0.002*\"мэр\" + 0.002*\"показ\" + 0.001*\"партия\" + 0.001*\"правительственный\" + 0.001*\"совместно\" + 0.001*\"собственность\"\n",
      "topic #3 (0.040): 0.006*\"лауреат\" + 0.005*\"смерть\" + 0.003*\"палата\" + 0.003*\"долматов\" + 0.003*\"пресссекретарить\" + 0.002*\"захаров\" + 0.002*\"автор\" + 0.002*\"песок\" + 0.002*\"юбилейный\" + 0.001*\"путин\"\n",
      "topic #8 (0.040): 0.003*\"кузьмин\" + 0.003*\"nreutersn\" + 0.002*\"чен\" + 0.001*\"брат\" + 0.001*\"журнал\" + 0.001*\"матч\" + 0.001*\"освободить\" + 0.000*\"сша\" + 0.000*\"переизбрание\" + 0.000*\"латиф\"\n",
      "topic #16 (0.040): 0.009*\"сша\" + 0.008*\"путин\" + 0.008*\"государство\" + 0.007*\"американский\" + 0.006*\"флот\" + 0.005*\"запретить\" + 0.004*\"министерство\" + 0.004*\"россия\" + 0.004*\"власть\" + 0.003*\"современный\"\n",
      "topic #7 (0.040): 0.013*\"боевик\" + 0.006*\"террорист\" + 0.006*\"культурный\" + 0.004*\"уничтожить\" + 0.002*\"пак\" + 0.001*\"трансляция\" + 0.001*\"абэ\" + 0.001*\"нанести\" + 0.001*\"подразделение\" + 0.001*\"универсиада\"\n",
      "topic diff=0.092734, rho=0.447214\n",
      "PROGRESS: pass 0, at document #12000/27000\n",
      "merging changes from 2000 documents into a model of 27000 documents\n",
      "topic #8 (0.040): 0.003*\"чен\" + 0.002*\"кузьмин\" + 0.002*\"nreutersn\" + 0.001*\"экипировка\" + 0.000*\"брат\" + 0.000*\"журнал\" + 0.000*\"матч\" + 0.000*\"освободить\" + 0.000*\"сша\" + 0.000*\"переизбрание\"\n",
      "topic #3 (0.040): 0.003*\"лауреат\" + 0.003*\"смерть\" + 0.002*\"палата\" + 0.002*\"пресссекретарить\" + 0.002*\"долматов\" + 0.001*\"автор\" + 0.001*\"юбилейный\" + 0.001*\"захаров\" + 0.001*\"песок\" + 0.001*\"путин\"\n",
      "topic #10 (0.040): 0.003*\"проверка\" + 0.002*\"березовский\" + 0.001*\"тайвань\" + 0.000*\"гуам\" + 0.000*\"ху\" + 0.000*\"телевизионный\" + 0.000*\"шотландия\" + 0.000*\"внеочередной\" + 0.000*\"гана\" + 0.000*\"матч\"\n",
      "topic #15 (0.040): 0.008*\"ирак\" + 0.008*\"иракский\" + 0.005*\"освобождение\" + 0.004*\"небо\" + 0.004*\"калининградский\" + 0.004*\"боевой\" + 0.004*\"писать\" + 0.004*\"польский\" + 0.003*\"берег\" + 0.003*\"пространство\"\n",
      "topic #12 (0.040): 0.014*\"альянс\" + 0.003*\"офицер\" + 0.002*\"телекомпания\" + 0.002*\"newsnn\" + 0.001*\"инцидент\" + 0.001*\"райан\" + 0.001*\"намерение\" + 0.001*\"абрамович\" + 0.001*\"янг\" + 0.001*\"аудитория\"\n",
      "topic diff=0.103395, rho=0.408248\n",
      "PROGRESS: pass 0, at document #14000/27000\n",
      "merging changes from 2000 documents into a model of 27000 documents\n",
      "topic #4 (0.040): 0.007*\"вашингтон\" + 0.007*\"сша\" + 0.006*\"рф\" + 0.006*\"израиль\" + 0.006*\"отмечаться\" + 0.005*\"удар\" + 0.005*\"ссылка\" + 0.005*\"турецкий\" + 0.005*\"чёрный\" + 0.004*\"народный\"\n",
      "topic #0 (0.040): 0.021*\"фильм\" + 0.010*\"актёр\" + 0.009*\"nthe\" + 0.008*\"конкурс\" + 0.005*\"супруг\" + 0.005*\"исследование\" + 0.005*\"белый\" + 0.005*\"отдых\" + 0.004*\"письмо\" + 0.004*\"парк\"\n",
      "topic #10 (0.040): 0.002*\"проверка\" + 0.001*\"березовский\" + 0.001*\"чэнь\" + 0.001*\"тайвань\" + 0.001*\"шотландия\" + 0.000*\"гуам\" + 0.000*\"ху\" + 0.000*\"телевизионный\" + 0.000*\"внеочередной\" + 0.000*\"гана\"\n",
      "topic #11 (0.040): 0.052*\"военный\" + 0.008*\"афганистан\" + 0.008*\"млрд\" + 0.006*\"боевой\" + 0.006*\"расход\" + 0.005*\"операция\" + 0.002*\"автор\" + 0.002*\"развернуть\" + 0.002*\"увеличение\" + 0.002*\"timesn\"\n",
      "topic #2 (0.040): 0.004*\"лодка\" + 0.002*\"разместить\" + 0.001*\"гарсия\" + 0.001*\"соболезнование\" + 0.001*\"доступ\" + 0.001*\"кит\" + 0.001*\"элизабет\" + 0.000*\"сурков\" + 0.000*\"близкие\" + 0.000*\"скончаться\"\n",
      "topic diff=0.076214, rho=0.377964\n",
      "PROGRESS: pass 0, at document #16000/27000\n",
      "merging changes from 2000 documents into a model of 27000 documents\n",
      "topic #0 (0.040): 0.016*\"фильм\" + 0.009*\"актёр\" + 0.009*\"отдых\" + 0.008*\"конкурс\" + 0.007*\"nthe\" + 0.007*\"взрыв\" + 0.006*\"парк\" + 0.005*\"исследование\" + 0.005*\"парка\" + 0.005*\"супруг\"\n",
      "topic #17 (0.040): 0.007*\"кот\" + 0.003*\"заведение\" + 0.003*\"учебный\" + 0.003*\"израиль\" + 0.002*\"показ\" + 0.001*\"хорватия\" + 0.001*\"мэр\" + 0.001*\"хорватский\" + 0.001*\"nusa\" + 0.001*\"разрешение\"\n",
      "topic #15 (0.040): 0.004*\"писать\" + 0.004*\"иракский\" + 0.004*\"ирак\" + 0.003*\"достопримечательность\" + 0.003*\"мэр\" + 0.003*\"студия\" + 0.003*\"обращение\" + 0.003*\"калининградский\" + 0.003*\"небо\" + 0.003*\"берег\"\n",
      "topic #8 (0.040): 0.002*\"чен\" + 0.001*\"nreutersn\" + 0.001*\"экипировка\" + 0.001*\"футболка\" + 0.001*\"кузьмин\" + 0.001*\"обложка\" + 0.001*\"свет\" + 0.001*\"журнал\" + 0.000*\"брат\" + 0.000*\"матч\"\n",
      "topic #12 (0.040): 0.006*\"альянс\" + 0.004*\"отель\" + 0.001*\"офицер\" + 0.001*\"newsnn\" + 0.001*\"телефонный\" + 0.001*\"телекомпания\" + 0.001*\"вилла\" + 0.001*\"абрамович\" + 0.001*\"графство\" + 0.001*\"пан\"\n",
      "topic diff=0.050489, rho=0.353553\n",
      "PROGRESS: pass 0, at document #18000/27000\n",
      "merging changes from 2000 documents into a model of 27000 documents\n",
      "topic #6 (0.040): 0.001*\"джонс\" + 0.001*\"сенат\" + 0.000*\"мемориальный\" + 0.000*\"память\" + 0.000*\"доска\" + 0.000*\"демократия\" + 0.000*\"астахов\" + 0.000*\"бок\" + 0.000*\"выдать\" + 0.000*\"сара\"\n",
      "topic #2 (0.040): 0.003*\"лодка\" + 0.002*\"соболезнование\" + 0.001*\"компьютер\" + 0.001*\"разместить\" + 0.001*\"доступ\" + 0.001*\"близкие\" + 0.000*\"кит\" + 0.000*\"гондурас\" + 0.000*\"гарсия\" + 0.000*\"тимофеев\"\n",
      "topic #13 (0.040): 0.013*\"виза\" + 0.003*\"фотография\" + 0.002*\"сбить\" + 0.001*\"получение\" + 0.001*\"космос\" + 0.001*\"краснов\" + 0.001*\"кения\" + 0.000*\"наличие\" + 0.000*\"динар\" + 0.000*\"тв\"\n",
      "topic #5 (0.040): 0.007*\"служба\" + 0.007*\"депутат\" + 0.006*\"государственный\" + 0.005*\"администрация\" + 0.005*\"завод\" + 0.005*\"отдел\" + 0.004*\"агентство\" + 0.004*\"внутренний\" + 0.004*\"запрос\" + 0.004*\"кремль\"\n",
      "topic #7 (0.040): 0.016*\"боевик\" + 0.015*\"террорист\" + 0.004*\"уничтожить\" + 0.003*\"уильям\" + 0.002*\"культурный\" + 0.002*\"пистолет\" + 0.002*\"подразделение\" + 0.002*\"нанести\" + 0.001*\"экстремист\" + 0.001*\"грин\"\n",
      "topic diff=0.062129, rho=0.333333\n",
      "-23.357 per-word bound, 10740860.2 perplexity estimate based on a held-out corpus of 2000 documents with 24419 words\n",
      "PROGRESS: pass 0, at document #20000/27000\n",
      "merging changes from 2000 documents into a model of 27000 documents\n",
      "topic #18 (0.040): 0.041*\"банк\" + 0.016*\"эксперт\" + 0.014*\"доллар\" + 0.009*\"мвд\" + 0.007*\"социальный\" + 0.006*\"автомобиль\" + 0.005*\"прибыль\" + 0.005*\"происшествие\" + 0.005*\"депутат\" + 0.005*\"имущество\"\n",
      "topic #10 (0.040): 0.001*\"проверка\" + 0.001*\"шотландия\" + 0.001*\"березовский\" + 0.000*\"чэнь\" + 0.000*\"тайвань\" + 0.000*\"телевизионный\" + 0.000*\"гуам\" + 0.000*\"ху\" + 0.000*\"внеочередной\" + 0.000*\"гана\"\n",
      "topic #3 (0.040): 0.002*\"смерть\" + 0.002*\"палата\" + 0.001*\"вуз\" + 0.001*\"си\" + 0.001*\"лауреат\" + 0.001*\"пресссекретарить\" + 0.001*\"регистрация\" + 0.001*\"якунин\" + 0.001*\"луценко\" + 0.001*\"вологда\"\n",
      "topic #2 (0.040): 0.002*\"лодка\" + 0.001*\"соболезнование\" + 0.001*\"компьютер\" + 0.000*\"разместить\" + 0.000*\"доступ\" + 0.000*\"близкие\" + 0.000*\"кит\" + 0.000*\"гондурас\" + 0.000*\"гарсия\" + 0.000*\"тимофеев\"\n",
      "topic #0 (0.040): 0.012*\"взрыв\" + 0.010*\"налог\" + 0.009*\"фильм\" + 0.007*\"медведев\" + 0.007*\"отдых\" + 0.006*\"конкурс\" + 0.005*\"исследование\" + 0.005*\"супруг\" + 0.005*\"вырасти\" + 0.005*\"актёр\"\n",
      "topic diff=0.062058, rho=0.316228\n",
      "PROGRESS: pass 0, at document #22000/27000\n",
      "merging changes from 2000 documents into a model of 27000 documents\n",
      "topic #15 (0.040): 0.005*\"ндс\" + 0.005*\"достопримечательность\" + 0.005*\"вицепремьер\" + 0.003*\"риск\" + 0.003*\"писать\" + 0.003*\"студия\" + 0.003*\"мэр\" + 0.003*\"стена\" + 0.003*\"квартира\" + 0.003*\"обращение\"\n",
      "topic #14 (0.040): 0.007*\"украина\" + 0.006*\"год\" + 0.005*\"россия\" + 0.005*\"рубль\" + 0.005*\"цена\" + 0.004*\"российский\" + 0.004*\"рынок\" + 0.004*\"страна\" + 0.004*\"это\" + 0.003*\"украинский\"\n",
      "topic #4 (0.040): 0.017*\"рост\" + 0.010*\"гражданин\" + 0.009*\"рф\" + 0.008*\"данные\" + 0.007*\"ребёнок\" + 0.007*\"правительство\" + 0.006*\"долг\" + 0.006*\"сотрудник\" + 0.006*\"около\" + 0.005*\"показатель\"\n",
      "topic #9 (0.040): 0.015*\"суд\" + 0.014*\"ставка\" + 0.008*\"выплата\" + 0.008*\"налоговый\" + 0.007*\"компания\" + 0.006*\"реальный\" + 0.006*\"размер\" + 0.006*\"египет\" + 0.005*\"иск\" + 0.005*\"привести\"\n",
      "topic #11 (0.040): 0.038*\"млрд\" + 0.037*\"газ\" + 0.023*\"доход\" + 0.014*\"военный\" + 0.012*\"расход\" + 0.004*\"увеличение\" + 0.004*\"увеличить\" + 0.003*\"превышать\" + 0.003*\"учреждение\" + 0.003*\"операция\"\n",
      "topic diff=0.033256, rho=0.301511\n",
      "PROGRESS: pass 0, at document #24000/27000\n",
      "merging changes from 2000 documents into a model of 27000 documents\n",
      "topic #16 (0.040): 0.016*\"компания\" + 0.011*\"санкция\" + 0.011*\"сша\" + 0.007*\"путин\" + 0.007*\"американский\" + 0.006*\"государство\" + 0.006*\"инвестиция\" + 0.006*\"иностранный\" + 0.005*\"пострадать\" + 0.005*\"граница\"\n",
      "topic #17 (0.040): 0.005*\"вино\" + 0.003*\"заведение\" + 0.003*\"хорватия\" + 0.003*\"хуснуллин\" + 0.002*\"кот\" + 0.002*\"учебный\" + 0.002*\"собственность\" + 0.002*\"лесной\" + 0.001*\"хорватский\" + 0.001*\"разрешение\"\n",
      "topic #7 (0.040): 0.006*\"боевик\" + 0.005*\"террорист\" + 0.003*\"культурный\" + 0.002*\"уильям\" + 0.001*\"уничтожить\" + 0.001*\"подразделение\" + 0.001*\"дублин\" + 0.001*\"пистолет\" + 0.001*\"нанести\" + 0.001*\"экстремист\"\n",
      "topic #19 (0.040): 0.009*\"полиция\" + 0.008*\"население\" + 0.007*\"инцидент\" + 0.006*\"следователь\" + 0.006*\"расследование\" + 0.005*\"подозревать\" + 0.005*\"местный\" + 0.005*\"штат\" + 0.005*\"убийство\" + 0.005*\"тело\"\n",
      "topic #24 (0.040): 0.002*\"брюссель\" + 0.002*\"канал\" + 0.001*\"номинация\" + 0.001*\"мобильный\" + 0.001*\"молдавский\" + 0.001*\"пребывание\" + 0.001*\"зубков\" + 0.001*\"техас\" + 0.001*\"браун\" + 0.000*\"ак\"\n",
      "topic diff=0.043205, rho=0.288675\n",
      "PROGRESS: pass 0, at document #26000/27000\n",
      "merging changes from 2000 documents into a model of 27000 documents\n",
      "topic #24 (0.040): 0.002*\"мобильный\" + 0.001*\"брюссель\" + 0.001*\"канал\" + 0.001*\"номинация\" + 0.001*\"молдавский\" + 0.001*\"пребывание\" + 0.001*\"зубков\" + 0.001*\"браун\" + 0.001*\"ак\" + 0.000*\"техас\"\n",
      "topic #21 (0.040): 0.018*\"ракета\" + 0.010*\"планета\" + 0.008*\"температура\" + 0.008*\"научный\" + 0.008*\"операция\" + 0.007*\"источник\" + 0.007*\"эксперимент\" + 0.006*\"поверхность\" + 0.005*\"улица\" + 0.005*\"японский\"\n",
      "topic #7 (0.040): 0.005*\"террорист\" + 0.004*\"боевик\" + 0.002*\"культурный\" + 0.001*\"уильям\" + 0.001*\"уничтожить\" + 0.001*\"подразделение\" + 0.001*\"дублин\" + 0.001*\"пистолет\" + 0.001*\"нанести\" + 0.001*\"сторонник\"\n",
      "topic #18 (0.040): 0.026*\"банк\" + 0.013*\"эксперт\" + 0.011*\"доллар\" + 0.007*\"социальный\" + 0.005*\"энергия\" + 0.005*\"автомобиль\" + 0.004*\"мвд\" + 0.004*\"имущество\" + 0.004*\"увеличение\" + 0.004*\"метод\"\n",
      "topic #13 (0.040): 0.014*\"виза\" + 0.002*\"космос\" + 0.002*\"получение\" + 0.001*\"фотография\" + 0.001*\"сбить\" + 0.001*\"кения\" + 0.000*\"никифоров\" + 0.000*\"справка\" + 0.000*\"тв\" + 0.000*\"краснов\"\n",
      "topic diff=0.027246, rho=0.277350\n",
      "-26.900 per-word bound, 125188071.8 perplexity estimate based on a held-out corpus of 1000 documents with 6429 words\n",
      "PROGRESS: pass 0, at document #27000/27000\n",
      "merging changes from 1000 documents into a model of 27000 documents\n",
      "topic #6 (0.040): 0.001*\"астахов\" + 0.001*\"бок\" + 0.000*\"доска\" + 0.000*\"выдать\" + 0.000*\"джонс\" + 0.000*\"мемориальный\" + 0.000*\"сенат\" + 0.000*\"память\" + 0.000*\"демократия\" + 0.000*\"заявлять\"\n",
      "topic #17 (0.040): 0.003*\"вино\" + 0.002*\"лесной\" + 0.002*\"заведение\" + 0.002*\"учебный\" + 0.002*\"хорватия\" + 0.002*\"хуснуллин\" + 0.001*\"пепел\" + 0.001*\"кот\" + 0.001*\"собственность\" + 0.001*\"хорватский\"\n",
      "topic #12 (0.040): 0.006*\"сон\" + 0.004*\"отель\" + 0.001*\"альянс\" + 0.001*\"ndaily\" + 0.001*\"вилла\" + 0.000*\"офицер\" + 0.000*\"занятость\" + 0.000*\"newsnn\" + 0.000*\"mailn\" + 0.000*\"лексика\"\n",
      "topic #4 (0.040): 0.009*\"рост\" + 0.008*\"ребёнок\" + 0.006*\"около\" + 0.006*\"гражданин\" + 0.006*\"данные\" + 0.006*\"правительство\" + 0.005*\"установить\" + 0.005*\"сотрудник\" + 0.005*\"рф\" + 0.005*\"мужчина\"\n",
      "topic #16 (0.040): 0.011*\"компания\" + 0.009*\"американский\" + 0.009*\"сша\" + 0.008*\"университет\" + 0.007*\"опубликовать\" + 0.007*\"санкция\" + 0.005*\"вывод\" + 0.005*\"путин\" + 0.005*\"государство\" + 0.005*\"помощь\"\n",
      "topic diff=0.035749, rho=0.267261\n",
      "LdaModel lifecycle event {'msg': 'trained LdaModel(num_terms=141244, num_topics=25, decay=0.5, chunksize=2000) in 36.44s', 'datetime': '2021-08-02T02:51:05.216578', 'gensim': '4.0.1', 'python': '3.8.5 (default, Sep  3 2020, 21:29:08) [MSC v.1916 64 bit (AMD64)]', 'platform': 'Windows-8.1-6.3.9600-SP0', 'event': 'created'}\n"
     ]
    }
   ],
   "source": [
    "## Тренируем LDA на tf-idf корпусе.\n",
    "lda_tfidf = LdaModel(common_corpus_tfidf, num_topics=25, id2word=common_dictionary)#, passes=10)"
   ]
  },
  {
   "cell_type": "code",
   "execution_count": 65,
   "metadata": {},
   "outputs": [],
   "source": [
    "## Получаем эмбеддинги документов по темам, с учетом подсчета для нового документа значений tf-idf.\n",
    "def get_lda_vector_tfidf(text):\n",
    "    unseen_doc = tfidf_model[common_dictionary.doc2bow(text)]\n",
    "    lda_tuple = lda_tfidf[unseen_doc]\n",
    "    not_null_topics = dict(zip([i[0] for i in lda_tuple], [i[1] for i in lda_tuple]))\n",
    "\n",
    "    output_vector = []\n",
    "    for i in range(25):\n",
    "        if i not in not_null_topics:\n",
    "            output_vector.append(0)\n",
    "        else:\n",
    "            output_vector.append(not_null_topics[i])\n",
    "    return np.array(output_vector)"
   ]
  },
  {
   "cell_type": "code",
   "execution_count": 66,
   "metadata": {},
   "outputs": [],
   "source": [
    "topic_matrix_tfidf = pd.DataFrame([get_lda_vector_tfidf(text) for text in news['title'].values])\n",
    "topic_matrix_tfidf.columns = ['topic_{}'.format(i) for i in range(25)]\n",
    "topic_matrix_tfidf['doc_id'] = news['doc_id'].values\n",
    "topic_matrix_tfidf = topic_matrix_tfidf[['doc_id']+['topic_{}'.format(i) for i in range(25)]]\n",
    "doc_dict = dict(zip(topic_matrix_tfidf['doc_id'].values, topic_matrix_tfidf[['topic_{}'.format(i) for i in range(25)]].values))"
   ]
  },
  {
   "cell_type": "code",
   "execution_count": 67,
   "metadata": {},
   "outputs": [
    {
     "name": "stdout",
     "output_type": "stream",
     "text": [
      "F1 score: 0.7870182555780932\n",
      "ROC-AUC score: 0.9759718588290016\n"
     ]
    },
    {
     "data": {
      "image/png": "[encoded data removed]",
      "text/plain": [
       "<Figure size 720x576 with 2 Axes>"
      ]
     },
     "metadata": {
      "needs_background": "light"
     },
     "output_type": "display_data"
    }
   ],
   "source": [
    "metrics_tfidf = train_embeddings_and_model(users, churn, get_user_embedding)\n",
    "metrics_df = metrics_df.append(metrics_tfidf, ignore_index=True)"
   ]
  },
  {
   "cell_type": "code",
   "execution_count": 68,
   "metadata": {},
   "outputs": [],
   "source": [
    "## Задание 5.\n",
    "## Сформировать на выходе единую таблицу, сравнивающую качество 3 разных метода получения эмбедингов пользователей: \n",
    "## mean, median, max, idf_mean по метрикам roc_auc, precision, recall, f_score\n",
    "metrics_df.index = ['mean', 'median', 'max', 'idf_mean']"
   ]
  },
  {
   "cell_type": "code",
   "execution_count": 69,
   "metadata": {},
   "outputs": [
    {
     "data": {
      "text/html": [
       "<div>\n",
       "<style scoped>\n",
       "    .dataframe tbody tr th:only-of-type {\n",
       "        vertical-align: middle;\n",
       "    }\n",
       "\n",
       "    .dataframe tbody tr th {\n",
       "        vertical-align: top;\n",
       "    }\n",
       "\n",
       "    .dataframe thead th {\n",
       "        text-align: right;\n",
       "    }\n",
       "</style>\n",
       "<table border=\"1\" class=\"dataframe\">\n",
       "  <thead>\n",
       "    <tr style=\"text-align: right;\">\n",
       "      <th></th>\n",
       "      <th>precision</th>\n",
       "      <th>recall</th>\n",
       "      <th>f1_score</th>\n",
       "      <th>roc_auc</th>\n",
       "    </tr>\n",
       "  </thead>\n",
       "  <tbody>\n",
       "    <tr>\n",
       "      <th>mean</th>\n",
       "      <td>0.825758</td>\n",
       "      <td>0.889796</td>\n",
       "      <td>0.856582</td>\n",
       "      <td>0.983899</td>\n",
       "    </tr>\n",
       "    <tr>\n",
       "      <th>median</th>\n",
       "      <td>0.930894</td>\n",
       "      <td>0.934694</td>\n",
       "      <td>0.932790</td>\n",
       "      <td>0.995726</td>\n",
       "    </tr>\n",
       "    <tr>\n",
       "      <th>max</th>\n",
       "      <td>0.841667</td>\n",
       "      <td>0.824490</td>\n",
       "      <td>0.832990</td>\n",
       "      <td>0.978168</td>\n",
       "    </tr>\n",
       "    <tr>\n",
       "      <th>idf_mean</th>\n",
       "      <td>0.782258</td>\n",
       "      <td>0.791837</td>\n",
       "      <td>0.787018</td>\n",
       "      <td>0.975972</td>\n",
       "    </tr>\n",
       "  </tbody>\n",
       "</table>\n",
       "</div>"
      ],
      "text/plain": [
       "          precision    recall  f1_score   roc_auc\n",
       "mean       0.825758  0.889796  0.856582  0.983899\n",
       "median     0.930894  0.934694  0.932790  0.995726\n",
       "max        0.841667  0.824490  0.832990  0.978168\n",
       "idf_mean   0.782258  0.791837  0.787018  0.975972"
      ]
     },
     "execution_count": 69,
     "metadata": {},
     "output_type": "execute_result"
    }
   ],
   "source": [
    "metrics_df"
   ]
  },
  {
   "cell_type": "code",
   "execution_count": null,
   "metadata": {},
   "outputs": [],
   "source": [
    "## Задание 6. Сделать самостоятельные выводы и предположения о том, почему тот или ной способ оказался\n",
    "## эффективнее остальных\n",
    "## ВЫВОД:\n",
    "## Можем заметить, что получение user embeddings по медиане сработало значительно лучше, чем по максимальному значению\n",
    "## или среднему (которые показали себя достаточно похоже).Получение embeddings по медиане работает лучше потому,\n",
    "## что она более устойчива к выбросам. Например, пользователь мог случайно посмотреть всего 1 статью с сильной тематикой\n",
    "## политика\", а остальные 20 статей по совершенно другим темам. В таком случае пользователю вряд ли будет интересна\n",
    "## тематика \"политика\". Медиана отражает это лучше, чем среднее или максимальное значение по тематике.\n",
    "## Среднее по tf-idf сработало в некоторой степени противоположно bag-of-words среднему в плане precision и recall \n",
    "## - оно начало реже делать ошибки False Negative, но чаще делать ошибки False Positive.\n",
    "## В целом tf-idf помог улучшить значения F1-score и ROC-AUC, но они все еще хуже значений медианы и\n",
    "## максимального значения для bag-of-words векторизации."
   ]
  },
  {
   "cell_type": "code",
   "execution_count": 70,
   "metadata": {},
   "outputs": [
    {
     "name": "stdout",
     "output_type": "stream",
     "text": [
      "F1 score: 0.8108108108108107\n",
      "ROC-AUC score: 0.9798825513111229\n"
     ]
    },
    {
     "data": {
      "image/png": "[encoded data removed]",
      "text/plain": [
       "<Figure size 720x576 with 2 Axes>"
      ]
     },
     "metadata": {
      "needs_background": "light"
     },
     "output_type": "display_data"
    }
   ],
   "source": [
    "## Найдем user embeddings по tf-idf, но с помощью медианы и максимального значения.\n",
    "metrics_tfidf_median = train_embeddings_and_model(users, churn, get_user_embedding_median)\n",
    "metrics_df = metrics_df.append(metrics_tfidf_median, ignore_index=True)"
   ]
  },
  {
   "cell_type": "code",
   "execution_count": 71,
   "metadata": {},
   "outputs": [
    {
     "name": "stdout",
     "output_type": "stream",
     "text": [
      "F1 score: 0.7000000000000001\n",
      "ROC-AUC score: 0.9479469736612595\n"
     ]
    },
    {
     "data": {
      "image/png": "[encoded data removed]",
      "text/plain": [
       "<Figure size 720x576 with 2 Axes>"
      ]
     },
     "metadata": {
      "needs_background": "light"
     },
     "output_type": "display_data"
    }
   ],
   "source": [
    "metrics_tfidf_max = train_embeddings_and_model(users, churn, get_user_embedding_max)\n",
    "metrics_df = metrics_df.append(metrics_tfidf_max, ignore_index=True)"
   ]
  },
  {
   "cell_type": "code",
   "execution_count": 72,
   "metadata": {},
   "outputs": [],
   "source": [
    "metrics_df.index = ['mean', 'median', 'max', 'idf_mean', 'idf_median', 'idf_max']"
   ]
  },
  {
   "cell_type": "code",
   "execution_count": 73,
   "metadata": {},
   "outputs": [
    {
     "data": {
      "text/html": [
       "<div>\n",
       "<style scoped>\n",
       "    .dataframe tbody tr th:only-of-type {\n",
       "        vertical-align: middle;\n",
       "    }\n",
       "\n",
       "    .dataframe tbody tr th {\n",
       "        vertical-align: top;\n",
       "    }\n",
       "\n",
       "    .dataframe thead th {\n",
       "        text-align: right;\n",
       "    }\n",
       "</style>\n",
       "<table border=\"1\" class=\"dataframe\">\n",
       "  <thead>\n",
       "    <tr style=\"text-align: right;\">\n",
       "      <th></th>\n",
       "      <th>precision</th>\n",
       "      <th>recall</th>\n",
       "      <th>f1_score</th>\n",
       "      <th>roc_auc</th>\n",
       "    </tr>\n",
       "  </thead>\n",
       "  <tbody>\n",
       "    <tr>\n",
       "      <th>mean</th>\n",
       "      <td>0.825758</td>\n",
       "      <td>0.889796</td>\n",
       "      <td>0.856582</td>\n",
       "      <td>0.983899</td>\n",
       "    </tr>\n",
       "    <tr>\n",
       "      <th>median</th>\n",
       "      <td>0.930894</td>\n",
       "      <td>0.934694</td>\n",
       "      <td>0.932790</td>\n",
       "      <td>0.995726</td>\n",
       "    </tr>\n",
       "    <tr>\n",
       "      <th>max</th>\n",
       "      <td>0.841667</td>\n",
       "      <td>0.824490</td>\n",
       "      <td>0.832990</td>\n",
       "      <td>0.978168</td>\n",
       "    </tr>\n",
       "    <tr>\n",
       "      <th>idf_mean</th>\n",
       "      <td>0.782258</td>\n",
       "      <td>0.791837</td>\n",
       "      <td>0.787018</td>\n",
       "      <td>0.975972</td>\n",
       "    </tr>\n",
       "    <tr>\n",
       "      <th>idf_median</th>\n",
       "      <td>0.826271</td>\n",
       "      <td>0.795918</td>\n",
       "      <td>0.810811</td>\n",
       "      <td>0.979883</td>\n",
       "    </tr>\n",
       "    <tr>\n",
       "      <th>idf_max</th>\n",
       "      <td>0.714894</td>\n",
       "      <td>0.685714</td>\n",
       "      <td>0.700000</td>\n",
       "      <td>0.947947</td>\n",
       "    </tr>\n",
       "  </tbody>\n",
       "</table>\n",
       "</div>"
      ],
      "text/plain": [
       "            precision    recall  f1_score   roc_auc\n",
       "mean         0.825758  0.889796  0.856582  0.983899\n",
       "median       0.930894  0.934694  0.932790  0.995726\n",
       "max          0.841667  0.824490  0.832990  0.978168\n",
       "idf_mean     0.782258  0.791837  0.787018  0.975972\n",
       "idf_median   0.826271  0.795918  0.810811  0.979883\n",
       "idf_max      0.714894  0.685714  0.700000  0.947947"
      ]
     },
     "execution_count": 73,
     "metadata": {},
     "output_type": "execute_result"
    }
   ],
   "source": [
    "metrics_df"
   ]
  },
  {
   "cell_type": "code",
   "execution_count": null,
   "metadata": {},
   "outputs": [],
   "source": [
    "## Лучшим все так же остался метод нахождения user embeddings с помощью bag-of-words векторизации и медианы.\n",
    "## Метод с tf-idf векторизацией и медианой оказался вторым по F1-score и ROC-AUC.\n",
    "## Возможно тексты в данном датасете слишком короткие, что ухудшает качество работы tf-idf."
   ]
  }
 ],
 "metadata": {
  "kernelspec": {
   "display_name": "Python 3",
   "language": "python",
   "name": "python3"
  },
  "language_info": {
   "codemirror_mode": {
    "name": "ipython",
    "version": 3
   },
   "file_extension": ".py",
   "mimetype": "text/x-python",
   "name": "python",
   "nbconvert_exporter": "python",
   "pygments_lexer": "ipython3",
   "version": "3.8.5"
  }
 },
 "nbformat": 4,
 "nbformat_minor": 4
}
